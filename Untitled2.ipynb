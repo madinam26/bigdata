{
  "nbformat": 4,
  "nbformat_minor": 0,
  "metadata": {
    "colab": {
      "provenance": []
    },
    "kernelspec": {
      "name": "python3",
      "display_name": "Python 3"
    },
    "language_info": {
      "name": "python"
    }
  },
  "cells": [
    {
      "cell_type": "code",
      "execution_count": null,
      "metadata": {
        "id": "plH4M3M24UjV"
      },
      "outputs": [],
      "source": []
    },
    {
      "cell_type": "code",
      "source": [
        "import requests\n",
        "import pandas as pd\n",
        "import matplotlib.pyplot as plt\n",
        "import seaborn as sns\n",
        "from hdfs import InsecureClient\n",
        "\n",
        "# API настройки (используем OpenWeatherMap, нужна регистрация для API-ключа)\n",
        "API_KEY = \"your_api_key\"  # Замени на свой API-ключ\n",
        "CITIES = [\"New York\", \"London\", \"Tokyo\", \"Moscow\", \"Dubai\"]\n",
        "BASE_URL = \"http://api.openweathermap.org/data/2.5/weather\"\n",
        "\n",
        "def get_weather(city):\n",
        "    params = {\"q\": city, \"appid\": API_KEY, \"units\": \"metric\"}\n",
        "    response = requests.get(BASE_URL, params=params)\n",
        "    if response.status_code == 200:\n",
        "        data = response.json()\n",
        "        return {\"city\": city, \"temperature\": data[\"main\"][\"temp\"], \"humidity\": data[\"main\"][\"humidity\"], \"pressure\": data[\"main\"][\"pressure\"]}\n",
        "    else:\n",
        "        return {\"city\": city, \"temperature\": None, \"humidity\": None, \"pressure\": None}\n",
        "\n",
        "# Сбор данных\n",
        "data = [get_weather(city) for city in CITIES]\n",
        "df = pd.DataFrame(data)\n",
        "print(df)\n",
        "\n",
        "# Визуализация изменений температуры\n",
        "plt.figure(figsize=(10, 5))\n",
        "sns.barplot(x='city', y='temperature', data=df, palette='coolwarm')\n",
        "plt.title('Температура в городах')\n",
        "plt.xlabel('Город')\n",
        "plt.ylabel('Температура (°C)')\n",
        "plt.show()\n",
        "\n",
        "# Сохранение данных в HDFS\n",
        "client = InsecureClient('http://localhost:50070', user='hdfs')\n",
        "with client.write('/weather_data.csv', overwrite=True) as writer:\n",
        "    df.to_csv(writer, index=False)\n",
        "\n",
        "# Выгрузка из HDFS на локальный компьютер\n",
        "with client.read('/weather_data.csv') as reader:\n",
        "    df_downloaded = pd.read_csv(reader)\n",
        "    df_downloaded.to_csv(\"weather_data_local.csv\", index=False)\n"
      ],
      "metadata": {
        "colab": {
          "base_uri": "https://localhost:8080/",
          "height": 384
        },
        "id": "JHz1R8yU4tE4",
        "outputId": "203eb676-2716-4630-a545-6b4b80066243"
      },
      "execution_count": 1,
      "outputs": [
        {
          "output_type": "error",
          "ename": "ModuleNotFoundError",
          "evalue": "No module named 'hdfs'",
          "traceback": [
            "\u001b[0;31m---------------------------------------------------------------------------\u001b[0m",
            "\u001b[0;31mModuleNotFoundError\u001b[0m                       Traceback (most recent call last)",
            "\u001b[0;32m<ipython-input-1-35edee977f2d>\u001b[0m in \u001b[0;36m<cell line: 0>\u001b[0;34m()\u001b[0m\n\u001b[1;32m      3\u001b[0m \u001b[0;32mimport\u001b[0m \u001b[0mmatplotlib\u001b[0m\u001b[0;34m.\u001b[0m\u001b[0mpyplot\u001b[0m \u001b[0;32mas\u001b[0m \u001b[0mplt\u001b[0m\u001b[0;34m\u001b[0m\u001b[0;34m\u001b[0m\u001b[0m\n\u001b[1;32m      4\u001b[0m \u001b[0;32mimport\u001b[0m \u001b[0mseaborn\u001b[0m \u001b[0;32mas\u001b[0m \u001b[0msns\u001b[0m\u001b[0;34m\u001b[0m\u001b[0;34m\u001b[0m\u001b[0m\n\u001b[0;32m----> 5\u001b[0;31m \u001b[0;32mfrom\u001b[0m \u001b[0mhdfs\u001b[0m \u001b[0;32mimport\u001b[0m \u001b[0mInsecureClient\u001b[0m\u001b[0;34m\u001b[0m\u001b[0;34m\u001b[0m\u001b[0m\n\u001b[0m\u001b[1;32m      6\u001b[0m \u001b[0;34m\u001b[0m\u001b[0m\n\u001b[1;32m      7\u001b[0m \u001b[0;31m# API настройки (используем OpenWeatherMap, нужна регистрация для API-ключа)\u001b[0m\u001b[0;34m\u001b[0m\u001b[0;34m\u001b[0m\u001b[0m\n",
            "\u001b[0;31mModuleNotFoundError\u001b[0m: No module named 'hdfs'",
            "",
            "\u001b[0;31m---------------------------------------------------------------------------\u001b[0;32m\nNOTE: If your import is failing due to a missing package, you can\nmanually install dependencies using either !pip or !apt.\n\nTo view examples of installing some common dependencies, click the\n\"Open Examples\" button below.\n\u001b[0;31m---------------------------------------------------------------------------\u001b[0m\n"
          ],
          "errorDetails": {
            "actions": [
              {
                "action": "open_url",
                "actionText": "Open Examples",
                "url": "/notebooks/snippets/importing_libraries.ipynb"
              }
            ]
          }
        }
      ]
    }
  ]
}